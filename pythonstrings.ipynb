{
 "cells": [
  {
   "cell_type": "code",
   "execution_count": 1,
   "id": "9bfb08dd-f91f-4802-9b17-4684e5380351",
   "metadata": {},
   "outputs": [],
   "source": [
    "name=\"pwskills\"\n",
    "vowels=\"aeiou\""
   ]
  },
  {
   "cell_type": "code",
   "execution_count": 4,
   "id": "cff611f7-6bb9-4c69-9f31-64c1b37872b2",
   "metadata": {},
   "outputs": [
    {
     "name": "stdout",
     "output_type": "stream",
     "text": [
      "pwskills"
     ]
    }
   ],
   "source": [
    "for ch in name:\n",
    "    print(ch,end=\"\")"
   ]
  },
  {
   "cell_type": "code",
   "execution_count": 5,
   "id": "b24ca2d3-8723-4c78-af02-33d864381a4b",
   "metadata": {},
   "outputs": [
    {
     "name": "stdout",
     "output_type": "stream",
     "text": [
      "p \n",
      "w \n",
      "s \n",
      "k \n",
      "i \n",
      "l \n",
      "l \n",
      "s \n"
     ]
    }
   ],
   "source": [
    "for ch in name:\n",
    "    print(ch,\"\")"
   ]
  },
  {
   "cell_type": "code",
   "execution_count": 12,
   "id": "ce39f035-4601-4a63-bf5e-51577e2f4531",
   "metadata": {},
   "outputs": [
    {
     "name": "stdout",
     "output_type": "stream",
     "text": [
      "p is not a vowel\n",
      "w is not a vowel\n",
      "s is not a vowel\n",
      "k is not a vowel\n",
      "i is a vowel\n",
      "l is not a vowel\n",
      "l is not a vowel\n",
      "s is not a vowel\n"
     ]
    }
   ],
   "source": [
    "for ch in name:\n",
    "    if ch in vowels:\n",
    "        print(\"{} is a vowel\".format(ch))\n",
    "    else:\n",
    "        print(\"{} is not a vowel\".format(ch))"
   ]
  },
  {
   "cell_type": "markdown",
   "id": "1f3c451e-b863-4f08-9df2-662ae8cea1f7",
   "metadata": {},
   "source": [
    "## list"
   ]
  },
  {
   "cell_type": "code",
   "execution_count": 14,
   "id": "00263986-9df4-45a0-b988-550b29cd088b",
   "metadata": {},
   "outputs": [
    {
     "data": {
      "text/plain": [
       "list"
      ]
     },
     "execution_count": 14,
     "metadata": {},
     "output_type": "execute_result"
    }
   ],
   "source": [
    "type([])"
   ]
  },
  {
   "cell_type": "code",
   "execution_count": 15,
   "id": "01715947-d534-4591-b2c9-9f6c232389e6",
   "metadata": {},
   "outputs": [
    {
     "data": {
      "text/plain": [
       "['Prasad', 'Sham', 'Ram']"
      ]
     },
     "execution_count": 15,
     "metadata": {},
     "output_type": "execute_result"
    }
   ],
   "source": [
    "[\"Prasad\",\"Sham\",\"Ram\"]"
   ]
  },
  {
   "cell_type": "code",
   "execution_count": 16,
   "id": "467ac278-d62b-4540-b205-8960b0bbc810",
   "metadata": {},
   "outputs": [
    {
     "data": {
      "text/plain": [
       "[1, 2, 3, 4, 5]"
      ]
     },
     "execution_count": 16,
     "metadata": {},
     "output_type": "execute_result"
    }
   ],
   "source": [
    "list([1,2,3,4,5])"
   ]
  },
  {
   "cell_type": "code",
   "execution_count": 21,
   "id": "c338df2e-d810-4628-8480-38892dc96a16",
   "metadata": {},
   "outputs": [
    {
     "data": {
      "text/plain": [
       "['p', 'w', 's', 'k', 'i', 'l', 'l', 's']"
      ]
     },
     "execution_count": 21,
     "metadata": {},
     "output_type": "execute_result"
    }
   ],
   "source": [
    "list(name)"
   ]
  },
  {
   "cell_type": "code",
   "execution_count": 22,
   "id": "4deaea91-a8e1-4587-99f8-0763008e91b7",
   "metadata": {},
   "outputs": [],
   "source": [
    "str1=\"pw skills data science masters course\""
   ]
  },
  {
   "cell_type": "code",
   "execution_count": 24,
   "id": "52426b45-bd4c-48d8-8cd5-8fa0472fae6e",
   "metadata": {},
   "outputs": [
    {
     "data": {
      "text/plain": [
       "['pw', 'skills', 'data', 'science', 'masters', 'course']"
      ]
     },
     "execution_count": 24,
     "metadata": {},
     "output_type": "execute_result"
    }
   ],
   "source": [
    "list(str1.split(\" \"))"
   ]
  },
  {
   "cell_type": "code",
   "execution_count": 26,
   "id": "6782ed34-3e69-44fa-b3cf-b0fa44e95e59",
   "metadata": {},
   "outputs": [],
   "source": [
    "lst1=str1.split(\" \")"
   ]
  },
  {
   "cell_type": "code",
   "execution_count": 27,
   "id": "be100b87-f50b-4126-aedd-f97bf796c890",
   "metadata": {},
   "outputs": [
    {
     "data": {
      "text/plain": [
       "['pw', 'skills', 'data', 'science', 'masters', 'course']"
      ]
     },
     "execution_count": 27,
     "metadata": {},
     "output_type": "execute_result"
    }
   ],
   "source": [
    "lst1"
   ]
  },
  {
   "cell_type": "code",
   "execution_count": 28,
   "id": "07edc815-5c65-48fc-aa90-7ea02a90438e",
   "metadata": {},
   "outputs": [
    {
     "data": {
      "text/plain": [
       "['skills', 'data', 'science', 'masters', 'course']"
      ]
     },
     "execution_count": 28,
     "metadata": {},
     "output_type": "execute_result"
    }
   ],
   "source": [
    "lst1[1:]"
   ]
  },
  {
   "cell_type": "code",
   "execution_count": 30,
   "id": "6c8262b0-052a-4073-a77f-dc2e800e5fa1",
   "metadata": {},
   "outputs": [
    {
     "data": {
      "text/plain": [
       "int"
      ]
     },
     "execution_count": 30,
     "metadata": {},
     "output_type": "execute_result"
    }
   ],
   "source": [
    "type(1)"
   ]
  },
  {
   "cell_type": "code",
   "execution_count": 32,
   "id": "755bf715-3c23-451f-be15-306122bdc207",
   "metadata": {},
   "outputs": [],
   "source": [
    "lst1[2]=\"Datas\""
   ]
  },
  {
   "cell_type": "code",
   "execution_count": 33,
   "id": "2b6d3d33-edad-4639-823f-3a2dd4ba657e",
   "metadata": {},
   "outputs": [
    {
     "data": {
      "text/plain": [
       "['pw', 'skills', 'Datas', 'science', 'masters', 'course']"
      ]
     },
     "execution_count": 33,
     "metadata": {},
     "output_type": "execute_result"
    }
   ],
   "source": [
    "lst1"
   ]
  },
  {
   "cell_type": "code",
   "execution_count": 34,
   "id": "0c267220-b567-41fd-b9c0-9cc5a8c6574b",
   "metadata": {},
   "outputs": [
    {
     "data": {
      "text/plain": [
       "'masters'"
      ]
     },
     "execution_count": 34,
     "metadata": {},
     "output_type": "execute_result"
    }
   ],
   "source": [
    "lst1[-2]"
   ]
  },
  {
   "cell_type": "code",
   "execution_count": 36,
   "id": "a3791257-be58-43aa-a3d0-196cfd1772fe",
   "metadata": {},
   "outputs": [
    {
     "data": {
      "text/plain": [
       "['Datas', 'pw']"
      ]
     },
     "execution_count": 36,
     "metadata": {},
     "output_type": "execute_result"
    }
   ],
   "source": [
    "lst1[-4::-2]"
   ]
  },
  {
   "cell_type": "code",
   "execution_count": 40,
   "id": "0844ee45-2964-4cc6-8885-da2799b3a619",
   "metadata": {},
   "outputs": [
    {
     "data": {
      "text/plain": [
       "[]"
      ]
     },
     "execution_count": 40,
     "metadata": {},
     "output_type": "execute_result"
    }
   ],
   "source": [
    "lst1[-5:-1:-2]"
   ]
  },
  {
   "cell_type": "code",
   "execution_count": 38,
   "id": "ab03c6de-377f-4da9-95f5-d9076be79d28",
   "metadata": {},
   "outputs": [
    {
     "data": {
      "text/plain": [
       "['pw', 'skills', 'Datas', 'science', 'masters', 'course']"
      ]
     },
     "execution_count": 38,
     "metadata": {},
     "output_type": "execute_result"
    }
   ],
   "source": [
    "lst1"
   ]
  },
  {
   "cell_type": "code",
   "execution_count": 43,
   "id": "759b467c-6f18-4a5f-a491-28fac6852706",
   "metadata": {},
   "outputs": [
    {
     "data": {
      "text/plain": [
       "['pw', 'skills', 'Datas', 'science', 'masters', 'course', ['new element', 1]]"
      ]
     },
     "execution_count": 43,
     "metadata": {},
     "output_type": "execute_result"
    }
   ],
   "source": [
    "#concatenation operation\n",
    "lst1 +[ ['new element',1]]"
   ]
  },
  {
   "cell_type": "code",
   "execution_count": 45,
   "id": "f1548310-646e-4e34-845b-665ea62128f8",
   "metadata": {},
   "outputs": [],
   "source": [
    "#concatenation operation\n",
    "lst2=lst1 +[ ['new element',1]]"
   ]
  },
  {
   "cell_type": "code",
   "execution_count": 47,
   "id": "7586b5a4-3350-402e-8eea-31fdd13a147b",
   "metadata": {},
   "outputs": [
    {
     "data": {
      "text/plain": [
       "'new element'"
      ]
     },
     "execution_count": 47,
     "metadata": {},
     "output_type": "execute_result"
    }
   ],
   "source": [
    "lst2[-1][0]"
   ]
  },
  {
   "cell_type": "code",
   "execution_count": 56,
   "id": "5ee79917-b22d-443d-827a-0b0158fe9858",
   "metadata": {},
   "outputs": [],
   "source": [
    "lst3=('lst1 * 2',end==\" \")"
   ]
  },
  {
   "cell_type": "code",
   "execution_count": 58,
   "id": "c0b761de-8219-4e00-a0ce-f2617a8cb038",
   "metadata": {},
   "outputs": [
    {
     "data": {
      "text/plain": [
       "('lst1 * 2', True)"
      ]
     },
     "execution_count": 58,
     "metadata": {},
     "output_type": "execute_result"
    }
   ],
   "source": [
    "lst3"
   ]
  },
  {
   "cell_type": "code",
   "execution_count": 59,
   "id": "7019c7d3-000f-4fa4-a876-8cee2f007e75",
   "metadata": {},
   "outputs": [
    {
     "data": {
      "text/plain": [
       "['pw', 'skills', 'Datas', 'science', 'masters', 'course']"
      ]
     },
     "execution_count": 59,
     "metadata": {},
     "output_type": "execute_result"
    }
   ],
   "source": [
    "lst1"
   ]
  },
  {
   "cell_type": "code",
   "execution_count": 68,
   "id": "b94ed65a-d8eb-4fef-a7da-ef2f076d440a",
   "metadata": {},
   "outputs": [
    {
     "name": "stdout",
     "output_type": "stream",
     "text": [
      "present\n"
     ]
    }
   ],
   "source": [
    "if \"science\" in lst1:\n",
    "    print(\"present\")\n",
    "        "
   ]
  },
  {
   "cell_type": "code",
   "execution_count": null,
   "id": "022205b5-1fef-411a-b0d2-e2be7b5e00f1",
   "metadata": {},
   "outputs": [],
   "source": []
  },
  {
   "cell_type": "code",
   "execution_count": null,
   "id": "ba7e1f5f-74ec-49f3-884a-2b1fdab9add4",
   "metadata": {},
   "outputs": [],
   "source": []
  },
  {
   "cell_type": "code",
   "execution_count": null,
   "id": "f3efc6c3-4e4b-4a2a-91d6-d8c4735d7b42",
   "metadata": {},
   "outputs": [],
   "source": []
  },
  {
   "cell_type": "code",
   "execution_count": null,
   "id": "ef72e154-57ac-41d6-ac5e-c7d6d1595e67",
   "metadata": {},
   "outputs": [],
   "source": []
  },
  {
   "cell_type": "code",
   "execution_count": null,
   "id": "c8722629-41d8-4b87-aa34-fbfc96991cee",
   "metadata": {},
   "outputs": [],
   "source": []
  },
  {
   "cell_type": "code",
   "execution_count": null,
   "id": "22dc6fe7-1be1-449e-a975-ac71a073effd",
   "metadata": {},
   "outputs": [],
   "source": []
  },
  {
   "cell_type": "code",
   "execution_count": null,
   "id": "e3966302-a562-4d59-8a1e-85bf01e17825",
   "metadata": {},
   "outputs": [],
   "source": []
  },
  {
   "cell_type": "code",
   "execution_count": null,
   "id": "2afd1317-941a-42ba-80d2-72244fce195c",
   "metadata": {},
   "outputs": [],
   "source": []
  }
 ],
 "metadata": {
  "kernelspec": {
   "display_name": "Python 3 (ipykernel)",
   "language": "python",
   "name": "python3"
  },
  "language_info": {
   "codemirror_mode": {
    "name": "ipython",
    "version": 3
   },
   "file_extension": ".py",
   "mimetype": "text/x-python",
   "name": "python",
   "nbconvert_exporter": "python",
   "pygments_lexer": "ipython3",
   "version": "3.10.8"
  }
 },
 "nbformat": 4,
 "nbformat_minor": 5
}
